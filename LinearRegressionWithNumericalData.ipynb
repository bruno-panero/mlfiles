{
 "cells": [
  {
   "cell_type": "code",
   "execution_count": 1,
   "metadata": {},
   "outputs": [],
   "source": [
    "import pandas as pd\n",
    "import matplotlib.pyplot as plt\n",
    "import seaborn as sns"
   ]
  },
  {
   "cell_type": "code",
   "execution_count": 8,
   "metadata": {},
   "outputs": [],
   "source": [
    "data = pd.read_csv('datasets/boston_data.csv', index_col=0)"
   ]
  },
  {
   "cell_type": "code",
   "execution_count": 9,
   "metadata": {},
   "outputs": [
    {
     "data": {
      "text/html": [
       "<div>\n",
       "<style scoped>\n",
       "    .dataframe tbody tr th:only-of-type {\n",
       "        vertical-align: middle;\n",
       "    }\n",
       "\n",
       "    .dataframe tbody tr th {\n",
       "        vertical-align: top;\n",
       "    }\n",
       "\n",
       "    .dataframe thead th {\n",
       "        text-align: right;\n",
       "    }\n",
       "</style>\n",
       "<table border=\"1\" class=\"dataframe\">\n",
       "  <thead>\n",
       "    <tr style=\"text-align: right;\">\n",
       "      <th></th>\n",
       "      <th>indus</th>\n",
       "      <th>chas</th>\n",
       "      <th>nox</th>\n",
       "      <th>rm</th>\n",
       "      <th>age</th>\n",
       "      <th>dis</th>\n",
       "      <th>rad</th>\n",
       "      <th>tax</th>\n",
       "      <th>ptratio</th>\n",
       "      <th>lstat</th>\n",
       "      <th>medv</th>\n",
       "    </tr>\n",
       "    <tr>\n",
       "      <th>ID</th>\n",
       "      <th></th>\n",
       "      <th></th>\n",
       "      <th></th>\n",
       "      <th></th>\n",
       "      <th></th>\n",
       "      <th></th>\n",
       "      <th></th>\n",
       "      <th></th>\n",
       "      <th></th>\n",
       "      <th></th>\n",
       "      <th></th>\n",
       "    </tr>\n",
       "  </thead>\n",
       "  <tbody>\n",
       "    <tr>\n",
       "      <th>1</th>\n",
       "      <td>2.31</td>\n",
       "      <td>0</td>\n",
       "      <td>0.538</td>\n",
       "      <td>6.575</td>\n",
       "      <td>65.2</td>\n",
       "      <td>4.0900</td>\n",
       "      <td>1</td>\n",
       "      <td>296</td>\n",
       "      <td>15.3</td>\n",
       "      <td>4.98</td>\n",
       "      <td>24.0</td>\n",
       "    </tr>\n",
       "    <tr>\n",
       "      <th>2</th>\n",
       "      <td>7.07</td>\n",
       "      <td>0</td>\n",
       "      <td>0.469</td>\n",
       "      <td>6.421</td>\n",
       "      <td>78.9</td>\n",
       "      <td>4.9671</td>\n",
       "      <td>2</td>\n",
       "      <td>242</td>\n",
       "      <td>17.8</td>\n",
       "      <td>9.14</td>\n",
       "      <td>21.6</td>\n",
       "    </tr>\n",
       "    <tr>\n",
       "      <th>4</th>\n",
       "      <td>2.18</td>\n",
       "      <td>0</td>\n",
       "      <td>0.458</td>\n",
       "      <td>6.998</td>\n",
       "      <td>45.8</td>\n",
       "      <td>6.0622</td>\n",
       "      <td>3</td>\n",
       "      <td>222</td>\n",
       "      <td>18.7</td>\n",
       "      <td>2.94</td>\n",
       "      <td>33.4</td>\n",
       "    </tr>\n",
       "    <tr>\n",
       "      <th>5</th>\n",
       "      <td>2.18</td>\n",
       "      <td>0</td>\n",
       "      <td>0.458</td>\n",
       "      <td>7.147</td>\n",
       "      <td>54.2</td>\n",
       "      <td>6.0622</td>\n",
       "      <td>3</td>\n",
       "      <td>222</td>\n",
       "      <td>18.7</td>\n",
       "      <td>5.33</td>\n",
       "      <td>36.2</td>\n",
       "    </tr>\n",
       "    <tr>\n",
       "      <th>7</th>\n",
       "      <td>7.87</td>\n",
       "      <td>0</td>\n",
       "      <td>0.524</td>\n",
       "      <td>6.012</td>\n",
       "      <td>66.6</td>\n",
       "      <td>5.5605</td>\n",
       "      <td>5</td>\n",
       "      <td>311</td>\n",
       "      <td>15.2</td>\n",
       "      <td>12.43</td>\n",
       "      <td>22.9</td>\n",
       "    </tr>\n",
       "  </tbody>\n",
       "</table>\n",
       "</div>"
      ],
      "text/plain": [
       "    indus  chas    nox     rm   age     dis  rad  tax  ptratio  lstat  medv\n",
       "ID                                                                         \n",
       "1    2.31     0  0.538  6.575  65.2  4.0900    1  296     15.3   4.98  24.0\n",
       "2    7.07     0  0.469  6.421  78.9  4.9671    2  242     17.8   9.14  21.6\n",
       "4    2.18     0  0.458  6.998  45.8  6.0622    3  222     18.7   2.94  33.4\n",
       "5    2.18     0  0.458  7.147  54.2  6.0622    3  222     18.7   5.33  36.2\n",
       "7    7.87     0  0.524  6.012  66.6  5.5605    5  311     15.2  12.43  22.9"
      ]
     },
     "execution_count": 9,
     "metadata": {},
     "output_type": "execute_result"
    }
   ],
   "source": [
    "data.head()"
   ]
  },
  {
   "cell_type": "code",
   "execution_count": 10,
   "metadata": {},
   "outputs": [
    {
     "data": {
      "text/plain": [
       "(333, 11)"
      ]
     },
     "execution_count": 10,
     "metadata": {},
     "output_type": "execute_result"
    }
   ],
   "source": [
    "data.shape"
   ]
  },
  {
   "cell_type": "code",
   "execution_count": 12,
   "metadata": {},
   "outputs": [
    {
     "name": "stdout",
     "output_type": "stream",
     "text": [
      "<class 'pandas.core.frame.DataFrame'>\n",
      "Int64Index: 333 entries, 1 to 506\n",
      "Data columns (total 11 columns):\n",
      " #   Column   Non-Null Count  Dtype  \n",
      "---  ------   --------------  -----  \n",
      " 0   indus    333 non-null    float64\n",
      " 1   chas     333 non-null    int64  \n",
      " 2   nox      333 non-null    float64\n",
      " 3   rm       333 non-null    float64\n",
      " 4   age      333 non-null    float64\n",
      " 5   dis      333 non-null    float64\n",
      " 6   rad      333 non-null    int64  \n",
      " 7   tax      333 non-null    int64  \n",
      " 8   ptratio  333 non-null    float64\n",
      " 9   lstat    333 non-null    float64\n",
      " 10  medv     333 non-null    float64\n",
      "dtypes: float64(8), int64(3)\n",
      "memory usage: 31.2 KB\n"
     ]
    }
   ],
   "source": [
    "data.info()"
   ]
  },
  {
   "cell_type": "markdown",
   "metadata": {},
   "source": []
  },
  {
   "cell_type": "code",
   "execution_count": 13,
   "metadata": {},
   "outputs": [
    {
     "name": "stderr",
     "output_type": "stream",
     "text": [
      "C:\\Users\\BPanero\\Anaconda3\\lib\\site-packages\\seaborn\\_decorators.py:36: FutureWarning: Pass the following variables as keyword args: x, y, data. From version 0.12, the only valid positional argument will be `data`, and passing other arguments without an explicit keyword will result in an error or misinterpretation.\n",
      "  warnings.warn(\n"
     ]
    },
    {
     "data": {
      "text/plain": [
       "Text(10.049999999999997, 0.5, '$')"
      ]
     },
     "execution_count": 13,
     "metadata": {},
     "output_type": "execute_result"
    },
    {
     "data": {
      "image/png": "[encoded data removed]",
      "text/plain": [
       "<Figure size 360x360 with 1 Axes>"
      ]
     },
     "metadata": {
      "needs_background": "light"
     },
     "output_type": "display_data"
    }
   ],
   "source": [
    "sns.lmplot('rm','medv',data)\n",
    "plt.xlabel(\"Rooms\")\n",
    "plt.ylabel(\"$\")"
   ]
  },
  {
   "cell_type": "code",
   "execution_count": 14,
   "metadata": {},
   "outputs": [
    {
     "name": "stderr",
     "output_type": "stream",
     "text": [
      "C:\\Users\\BPanero\\Anaconda3\\lib\\site-packages\\seaborn\\_decorators.py:36: FutureWarning: Pass the following variables as keyword args: x, y, data. From version 0.12, the only valid positional argument will be `data`, and passing other arguments without an explicit keyword will result in an error or misinterpretation.\n",
      "  warnings.warn(\n"
     ]
    },
    {
     "data": {
      "text/plain": [
       "Text(10.049999999999997, 0.5, '$')"
      ]
     },
     "execution_count": 14,
     "metadata": {},
     "output_type": "execute_result"
    },
    {
     "data": {
      "image/png": "[encoded data removed]",
      "text/plain": [
       "<Figure size 360x360 with 1 Axes>"
      ]
     },
     "metadata": {
      "needs_background": "light"
     },
     "output_type": "display_data"
    }
   ],
   "source": [
    "sns.lmplot('age','medv',data)\n",
    "plt.xlabel(\"Age\")\n",
    "plt.ylabel(\"$\")"
   ]
  },
  {
   "cell_type": "code",
   "execution_count": 16,
   "metadata": {},
   "outputs": [
    {
     "name": "stderr",
     "output_type": "stream",
     "text": [
      "C:\\Users\\BPanero\\Anaconda3\\lib\\site-packages\\seaborn\\_decorators.py:36: FutureWarning: Pass the following variables as keyword args: x, y, data. From version 0.12, the only valid positional argument will be `data`, and passing other arguments without an explicit keyword will result in an error or misinterpretation.\n",
      "  warnings.warn(\n"
     ]
    },
    {
     "data": {
      "text/plain": [
       "Text(10.049999999999997, 0.5, '$')"
      ]
     },
     "execution_count": 16,
     "metadata": {},
     "output_type": "execute_result"
    },
    {
     "data": {
      "image/png": "[encoded data removed]",
      "text/plain": [
       "<Figure size 360x360 with 1 Axes>"
      ]
     },
     "metadata": {
      "needs_background": "light"
     },
     "output_type": "display_data"
    }
   ],
   "source": [
    "sns.lmplot('ptratio','medv',data)\n",
    "plt.xlabel(\"Pupil/Teacher\")\n",
    "plt.ylabel(\"$\")"
   ]
  },
  {
   "cell_type": "code",
   "execution_count": 23,
   "metadata": {},
   "outputs": [],
   "source": [
    "#Importamos y tomamos el 80% como entrenamiento y el 20% como test\n",
    "from sklearn.linear_model import LinearRegression\n",
    "from sklearn.model_selection import train_test_split\n",
    "X=data.drop('medv',axis=1)\n",
    "Y=data['medv']\n",
    "x_train,x_test,y_train,y_test=train_test_split(X,Y,test_size=0.2,random_state=0)"
   ]
  },
  {
   "cell_type": "code",
   "execution_count": 24,
   "metadata": {},
   "outputs": [
    {
     "data": {
      "text/plain": [
       "((67, 10), (67,))"
      ]
     },
     "execution_count": 24,
     "metadata": {},
     "output_type": "execute_result"
    }
   ],
   "source": [
    "x_test.shape,y_test.shape"
   ]
  },
  {
   "cell_type": "code",
   "execution_count": 25,
   "metadata": {},
   "outputs": [
    {
     "data": {
      "text/plain": [
       "LinearRegression()"
      ]
     },
     "execution_count": 25,
     "metadata": {},
     "output_type": "execute_result"
    }
   ],
   "source": [
    "#Creamos el modelo con los datos de train\n",
    "linear_regression=LinearRegression()\n",
    "linear_regression.fit(x_train,y_train)"
   ]
  },
  {
   "cell_type": "code",
   "execution_count": 26,
   "metadata": {},
   "outputs": [
    {
     "data": {
      "text/plain": [
       "array([25.28659457, 28.57303764, 15.80275488, 12.97116825, 22.44697113,\n",
       "       25.84170951, 27.20057539, 18.91085253, 26.19709511, 20.28276254,\n",
       "       17.05969415, 25.26024706, 30.80682063, 37.12729863, 15.21833837,\n",
       "       33.18291063, 22.39997261, 25.74162379, 25.0195504 , 23.98978558,\n",
       "       19.38274011, 19.46275505, 19.28853185,  5.01746847, 15.82210828,\n",
       "       22.75937428, 26.96913154, 38.0985833 , 24.05918381, 25.00816864,\n",
       "       13.63516153, 34.8525424 , 35.85423056, 20.97640409, 23.95028738,\n",
       "       12.39041715, 24.7975901 ,  7.0509203 , 20.81358851, 27.3221854 ,\n",
       "       20.62258606, 26.08272627, 26.35831448, 20.23324227, 21.32142227,\n",
       "       29.04746247, 26.02230689, 29.28581985, 22.02729511, 16.98962646,\n",
       "       38.41999055, 23.37075991, 22.82358094, 17.87904935, 26.59608259,\n",
       "       21.86379968, 15.70849358, 17.85231653, 30.24900233, 28.29020911,\n",
       "       31.41839805, 43.12399696, 23.28794298, 17.72371626, 15.27274181,\n",
       "       25.61612834, 25.90338823])"
      ]
     },
     "execution_count": 26,
     "metadata": {},
     "output_type": "execute_result"
    }
   ],
   "source": [
    "#Creamos predicciones sobre las X de test para medir efectividad del modelo\n",
    "y_pred=linear_regression.predict(x_test)\n",
    "y_pred"
   ]
  },
  {
   "cell_type": "code",
   "execution_count": 29,
   "metadata": {},
   "outputs": [
    {
     "data": {
      "text/html": [
       "<div>\n",
       "<style scoped>\n",
       "    .dataframe tbody tr th:only-of-type {\n",
       "        vertical-align: middle;\n",
       "    }\n",
       "\n",
       "    .dataframe tbody tr th {\n",
       "        vertical-align: top;\n",
       "    }\n",
       "\n",
       "    .dataframe thead th {\n",
       "        text-align: right;\n",
       "    }\n",
       "</style>\n",
       "<table border=\"1\" class=\"dataframe\">\n",
       "  <thead>\n",
       "    <tr style=\"text-align: right;\">\n",
       "      <th></th>\n",
       "      <th>yTest</th>\n",
       "      <th>yPred</th>\n",
       "    </tr>\n",
       "    <tr>\n",
       "      <th>ID</th>\n",
       "      <th></th>\n",
       "      <th></th>\n",
       "    </tr>\n",
       "  </thead>\n",
       "  <tbody>\n",
       "    <tr>\n",
       "      <th>190</th>\n",
       "      <td>34.9</td>\n",
       "      <td>33.182911</td>\n",
       "    </tr>\n",
       "    <tr>\n",
       "      <th>74</th>\n",
       "      <td>23.4</td>\n",
       "      <td>25.841710</td>\n",
       "    </tr>\n",
       "    <tr>\n",
       "      <th>329</th>\n",
       "      <td>19.3</td>\n",
       "      <td>22.399973</td>\n",
       "    </tr>\n",
       "    <tr>\n",
       "      <th>150</th>\n",
       "      <td>15.4</td>\n",
       "      <td>12.971168</td>\n",
       "    </tr>\n",
       "    <tr>\n",
       "      <th>45</th>\n",
       "      <td>21.2</td>\n",
       "      <td>24.059184</td>\n",
       "    </tr>\n",
       "    <tr>\n",
       "      <th>28</th>\n",
       "      <td>14.8</td>\n",
       "      <td>15.272742</td>\n",
       "    </tr>\n",
       "    <tr>\n",
       "      <th>82</th>\n",
       "      <td>23.9</td>\n",
       "      <td>26.969132</td>\n",
       "    </tr>\n",
       "    <tr>\n",
       "      <th>179</th>\n",
       "      <td>29.9</td>\n",
       "      <td>31.418398</td>\n",
       "    </tr>\n",
       "    <tr>\n",
       "      <th>177</th>\n",
       "      <td>23.2</td>\n",
       "      <td>25.741624</td>\n",
       "    </tr>\n",
       "    <tr>\n",
       "      <th>298</th>\n",
       "      <td>20.3</td>\n",
       "      <td>20.282763</td>\n",
       "    </tr>\n",
       "  </tbody>\n",
       "</table>\n",
       "</div>"
      ],
      "text/plain": [
       "     yTest      yPred\n",
       "ID                   \n",
       "190   34.9  33.182911\n",
       "74    23.4  25.841710\n",
       "329   19.3  22.399973\n",
       "150   15.4  12.971168\n",
       "45    21.2  24.059184\n",
       "28    14.8  15.272742\n",
       "82    23.9  26.969132\n",
       "179   29.9  31.418398\n",
       "177   23.2  25.741624\n",
       "298   20.3  20.282763"
      ]
     },
     "execution_count": 29,
     "metadata": {},
     "output_type": "execute_result"
    }
   ],
   "source": [
    "#Comparamos la predicción contra los datos de test reales\n",
    "df_y=pd.DataFrame({\"yTest\":y_test,\"yPred\":y_pred})\n",
    "df_y.sample(10)"
   ]
  },
  {
   "cell_type": "code",
   "execution_count": 31,
   "metadata": {},
   "outputs": [
    {
     "name": "stdout",
     "output_type": "stream",
     "text": [
      "Training Score 0.7165238743004549\n"
     ]
    }
   ],
   "source": [
    "##Score calculado\n",
    "print(\"Training Score\", linear_regression.score(x_train,y_train))"
   ]
  },
  {
   "cell_type": "code",
   "execution_count": 32,
   "metadata": {},
   "outputs": [
    {
     "name": "stdout",
     "output_type": "stream",
     "text": [
      "Testing score 0.6940069129106292\n"
     ]
    }
   ],
   "source": [
    "##Score calculado por R2\n",
    "from sklearn.metrics import r2_score\n",
    "score=r2_score(y_test,y_pred)\n",
    "print(\"Testing score\", score)"
   ]
  },
  {
   "cell_type": "code",
   "execution_count": 34,
   "metadata": {},
   "outputs": [],
   "source": [
    "#Análisis \n",
    "import numpy as npy\n",
    "import statsmodels.api as sm"
   ]
  },
  {
   "cell_type": "code",
   "execution_count": 36,
   "metadata": {},
   "outputs": [
    {
     "data": {
      "text/plain": [
       "array([[  2.31  ,   0.    ,   0.538 ,   6.575 ,  65.2   ,   4.09  ,\n",
       "          1.    , 296.    ,  15.3   ,   4.98  ],\n",
       "       [  7.07  ,   0.    ,   0.469 ,   6.421 ,  78.9   ,   4.9671,\n",
       "          2.    , 242.    ,  17.8   ,   9.14  ],\n",
       "       [  2.18  ,   0.    ,   0.458 ,   6.998 ,  45.8   ,   6.0622,\n",
       "          3.    , 222.    ,  18.7   ,   2.94  ],\n",
       "       [  2.18  ,   0.    ,   0.458 ,   7.147 ,  54.2   ,   6.0622,\n",
       "          3.    , 222.    ,  18.7   ,   5.33  ],\n",
       "       [  7.87  ,   0.    ,   0.524 ,   6.012 ,  66.6   ,   5.5605,\n",
       "          5.    , 311.    ,  15.2   ,  12.43  ]])"
      ]
     },
     "execution_count": 36,
     "metadata": {},
     "output_type": "execute_result"
    }
   ],
   "source": [
    "X=npy.array(X)\n",
    "X[:5]"
   ]
  },
  {
   "cell_type": "code",
   "execution_count": 39,
   "metadata": {},
   "outputs": [
    {
     "data": {
      "text/html": [
       "<table class=\"simpletable\">\n",
       "<caption>OLS Regression Results</caption>\n",
       "<tr>\n",
       "  <th>Dep. Variable:</th>          <td>medv</td>       <th>  R-squared (uncentered):</th>      <td>   0.955</td> \n",
       "</tr>\n",
       "<tr>\n",
       "  <th>Model:</th>                   <td>OLS</td>       <th>  Adj. R-squared (uncentered):</th> <td>   0.954</td> \n",
       "</tr>\n",
       "<tr>\n",
       "  <th>Method:</th>             <td>Least Squares</td>  <th>  F-statistic:       </th>          <td>   685.8</td> \n",
       "</tr>\n",
       "<tr>\n",
       "  <th>Date:</th>             <td>Tue, 06 Apr 2021</td> <th>  Prob (F-statistic):</th>          <td>7.35e-211</td>\n",
       "</tr>\n",
       "<tr>\n",
       "  <th>Time:</th>                 <td>00:08:11</td>     <th>  Log-Likelihood:    </th>          <td> -1021.8</td> \n",
       "</tr>\n",
       "<tr>\n",
       "  <th>No. Observations:</th>      <td>   333</td>      <th>  AIC:               </th>          <td>   2064.</td> \n",
       "</tr>\n",
       "<tr>\n",
       "  <th>Df Residuals:</th>          <td>   323</td>      <th>  BIC:               </th>          <td>   2102.</td> \n",
       "</tr>\n",
       "<tr>\n",
       "  <th>Df Model:</th>              <td>    10</td>      <th>                     </th>              <td> </td>    \n",
       "</tr>\n",
       "<tr>\n",
       "  <th>Covariance Type:</th>      <td>nonrobust</td>    <th>                     </th>              <td> </td>    \n",
       "</tr>\n",
       "</table>\n",
       "<table class=\"simpletable\">\n",
       "<tr>\n",
       "   <td></td>      <th>coef</th>     <th>std err</th>      <th>t</th>      <th>P>|t|</th>  <th>[0.025</th>    <th>0.975]</th>  \n",
       "</tr>\n",
       "<tr>\n",
       "  <th>x1</th>  <td>   -0.0099</td> <td>    0.080</td> <td>   -0.123</td> <td> 0.902</td> <td>   -0.168</td> <td>    0.148</td>\n",
       "</tr>\n",
       "<tr>\n",
       "  <th>x2</th>  <td>    4.3339</td> <td>    1.252</td> <td>    3.461</td> <td> 0.001</td> <td>    1.871</td> <td>    6.797</td>\n",
       "</tr>\n",
       "<tr>\n",
       "  <th>x3</th>  <td>    0.5935</td> <td>    4.395</td> <td>    0.135</td> <td> 0.893</td> <td>   -8.053</td> <td>    9.240</td>\n",
       "</tr>\n",
       "<tr>\n",
       "  <th>x4</th>  <td>    6.2482</td> <td>    0.401</td> <td>   15.591</td> <td> 0.000</td> <td>    5.460</td> <td>    7.037</td>\n",
       "</tr>\n",
       "<tr>\n",
       "  <th>x5</th>  <td>   -0.0157</td> <td>    0.018</td> <td>   -0.858</td> <td> 0.391</td> <td>   -0.052</td> <td>    0.020</td>\n",
       "</tr>\n",
       "<tr>\n",
       "  <th>x6</th>  <td>   -0.6503</td> <td>    0.250</td> <td>   -2.597</td> <td> 0.010</td> <td>   -1.143</td> <td>   -0.158</td>\n",
       "</tr>\n",
       "<tr>\n",
       "  <th>x7</th>  <td>    0.0869</td> <td>    0.080</td> <td>    1.092</td> <td> 0.276</td> <td>   -0.070</td> <td>    0.244</td>\n",
       "</tr>\n",
       "<tr>\n",
       "  <th>x8</th>  <td>   -0.0066</td> <td>    0.005</td> <td>   -1.385</td> <td> 0.167</td> <td>   -0.016</td> <td>    0.003</td>\n",
       "</tr>\n",
       "<tr>\n",
       "  <th>x9</th>  <td>   -0.2626</td> <td>    0.130</td> <td>   -2.024</td> <td> 0.044</td> <td>   -0.518</td> <td>   -0.007</td>\n",
       "</tr>\n",
       "<tr>\n",
       "  <th>x10</th> <td>   -0.5386</td> <td>    0.065</td> <td>   -8.321</td> <td> 0.000</td> <td>   -0.666</td> <td>   -0.411</td>\n",
       "</tr>\n",
       "</table>\n",
       "<table class=\"simpletable\">\n",
       "<tr>\n",
       "  <th>Omnibus:</th>       <td>141.333</td> <th>  Durbin-Watson:     </th> <td>   0.896</td> \n",
       "</tr>\n",
       "<tr>\n",
       "  <th>Prob(Omnibus):</th> <td> 0.000</td>  <th>  Jarque-Bera (JB):  </th> <td> 757.422</td> \n",
       "</tr>\n",
       "<tr>\n",
       "  <th>Skew:</th>          <td> 1.709</td>  <th>  Prob(JB):          </th> <td>3.37e-165</td>\n",
       "</tr>\n",
       "<tr>\n",
       "  <th>Kurtosis:</th>      <td> 9.551</td>  <th>  Cond. No.          </th> <td>6.83e+03</td> \n",
       "</tr>\n",
       "</table><br/><br/>Notes:<br/>[1] R² is computed without centering (uncentered) since the model does not contain a constant.<br/>[2] Standard Errors assume that the covariance matrix of the errors is correctly specified.<br/>[3] The condition number is large, 6.83e+03. This might indicate that there are<br/>strong multicollinearity or other numerical problems."
      ],
      "text/plain": [
       "<class 'statsmodels.iolib.summary.Summary'>\n",
       "\"\"\"\n",
       "                                 OLS Regression Results                                \n",
       "=======================================================================================\n",
       "Dep. Variable:                   medv   R-squared (uncentered):                   0.955\n",
       "Model:                            OLS   Adj. R-squared (uncentered):              0.954\n",
       "Method:                 Least Squares   F-statistic:                              685.8\n",
       "Date:                Tue, 06 Apr 2021   Prob (F-statistic):                   7.35e-211\n",
       "Time:                        00:08:11   Log-Likelihood:                         -1021.8\n",
       "No. Observations:                 333   AIC:                                      2064.\n",
       "Df Residuals:                     323   BIC:                                      2102.\n",
       "Df Model:                          10                                                  \n",
       "Covariance Type:            nonrobust                                                  \n",
       "==============================================================================\n",
       "                 coef    std err          t      P>|t|      [0.025      0.975]\n",
       "------------------------------------------------------------------------------\n",
       "x1            -0.0099      0.080     -0.123      0.902      -0.168       0.148\n",
       "x2             4.3339      1.252      3.461      0.001       1.871       6.797\n",
       "x3             0.5935      4.395      0.135      0.893      -8.053       9.240\n",
       "x4             6.2482      0.401     15.591      0.000       5.460       7.037\n",
       "x5            -0.0157      0.018     -0.858      0.391      -0.052       0.020\n",
       "x6            -0.6503      0.250     -2.597      0.010      -1.143      -0.158\n",
       "x7             0.0869      0.080      1.092      0.276      -0.070       0.244\n",
       "x8            -0.0066      0.005     -1.385      0.167      -0.016       0.003\n",
       "x9            -0.2626      0.130     -2.024      0.044      -0.518      -0.007\n",
       "x10           -0.5386      0.065     -8.321      0.000      -0.666      -0.411\n",
       "==============================================================================\n",
       "Omnibus:                      141.333   Durbin-Watson:                   0.896\n",
       "Prob(Omnibus):                  0.000   Jarque-Bera (JB):              757.422\n",
       "Skew:                           1.709   Prob(JB):                    3.37e-165\n",
       "Kurtosis:                       9.551   Cond. No.                     6.83e+03\n",
       "==============================================================================\n",
       "\n",
       "Notes:\n",
       "[1] R² is computed without centering (uncentered) since the model does not contain a constant.\n",
       "[2] Standard Errors assume that the covariance matrix of the errors is correctly specified.\n",
       "[3] The condition number is large, 6.83e+03. This might indicate that there are\n",
       "strong multicollinearity or other numerical problems.\n",
       "\"\"\""
      ]
     },
     "execution_count": 39,
     "metadata": {},
     "output_type": "execute_result"
    }
   ],
   "source": [
    "model=sm.OLS(Y,X).fit()\n",
    "model.summary()"
   ]
  },
  {
   "cell_type": "code",
   "execution_count": null,
   "metadata": {},
   "outputs": [],
   "source": []
  }
 ],
 "metadata": {
  "kernelspec": {
   "display_name": "Python 3",
   "language": "python",
   "name": "python3"
  },
  "language_info": {
   "codemirror_mode": {
    "name": "ipython",
    "version": 3
   },
   "file_extension": ".py",
   "mimetype": "text/x-python",
   "name": "python",
   "nbconvert_exporter": "python",
   "pygments_lexer": "ipython3",
   "version": "3.8.5"
  }
 },
 "nbformat": 4,
 "nbformat_minor": 4
}
